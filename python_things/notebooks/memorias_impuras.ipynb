{
 "cells": [
  {
   "cell_type": "markdown",
   "id": "2c8a4396-4b46-4737-8e86-9322a05cf2e1",
   "metadata": {},
   "source": [
    "# Memorias Impuras"
   ]
  },
  {
   "cell_type": "markdown",
   "id": "1bbe01f6-7b52-4beb-afaa-c1d158a44a37",
   "metadata": {},
   "source": [
    "## Test Driven Development Driven by Behavior"
   ]
  },
  {
   "cell_type": "markdown",
   "id": "0b33781e-9abd-42f4-88ad-c4479afd0e79",
   "metadata": {},
   "source": [
    "This is the first approach to reproduce the behavior of a working piece of code. \n",
    "It is used as an example to test patch behavior in tests\n",
    "\n",
    "## Drat of text\n",
    "\n",
    "- Why I make this\n",
    "- Tree of modules\n",
    "- Behavior of the test\n",
    "- Step by step\n",
    "\n",
    "\n",
    "### Behavior of modules\n",
    "- Given a Class `PrintMessage`\n",
    "- Given `PrintMessage` live in `app_example_1/module_1/submodule_1_1/submodule_1_1_1`\n",
    "- Given `PrintMessage` have a method called `print_message`\n",
    "- Given `PrintMessage.print_message` takes an String parameter\n",
    "- When `PrintMessage.print_message` is called with a String argument\n",
    "- Then the argument return the string\n",
    "- When `PrintMessage.print_message` is called with non String argument\n",
    "- Then `PrintMessage.print_message` raise an exception\n",
    "\n",
    "First of all we will write the unitest test that can conform this scenario"
   ]
  },
  {
   "cell_type": "code",
   "execution_count": 4,
   "id": "1c882703-a4ed-4e23-b665-21aafda7c200",
   "metadata": {},
   "outputs": [],
   "source": [
    "import ipytest\n",
    "\n",
    "ipytest.autoconfig()\n",
    "\n",
    "import pytest\n",
    "from unittest.mock import patch\n",
    "from unittest.mock import Mock\n",
    "from app_example_1.module_1.submodule_1_1.submodule_1_1_1.print_messages import PrintMessage\n"
   ]
  },
  {
   "cell_type": "code",
   "execution_count": 5,
   "id": "7f28e86d-504c-4c61-b835-b52b294704a2",
   "metadata": {},
   "outputs": [
    {
     "name": "stdout",
     "output_type": "stream",
     "text": [
      "\u001b[1m======================================= test session starts ========================================\u001b[0m\n",
      "platform linux -- Python 3.10.4, pytest-7.1.2, pluggy-1.0.0 -- /home/alvar/.pyenv/versions/3.10.4/bin/python\n",
      "cachedir: .pytest_cache\n",
      "rootdir: /home/alvar/git/100-days-of-code/python_things/notebooks\n",
      "plugins: anyio-3.6.1\n",
      "\u001b[1mcollecting ... \u001b[0mcollected 3 items\n",
      "\n",
      "tmpwn_qrbwt.py::test_PrintMessage_has_a_method_print_message \u001b[32mPASSED\u001b[0m\u001b[32m                          [ 33%]\u001b[0m\n",
      "tmpwn_qrbwt.py::test_PrintMessage_happy_path \u001b[32mPASSED\u001b[0m\u001b[32m                                          [ 66%]\u001b[0m\n",
      "tmpwn_qrbwt.py::test_method_print_message_raise_error_if_not_pass_str_as_argument \u001b[32mPASSED\u001b[0m\u001b[32m     [100%]\u001b[0m\n",
      "\n",
      "\u001b[32m======================================== \u001b[32m\u001b[1m3 passed\u001b[0m\u001b[32m in 0.01s\u001b[0m\u001b[32m =========================================\u001b[0m\n"
     ]
    }
   ],
   "source": [
    "%%ipytest -vv\n",
    "\n",
    "@pytest.fixture\n",
    "def test_object_of_PrintMessage():\n",
    "    # Given an object of Class PrintMessage\n",
    "    test_object = PrintMessage()\n",
    "    return test_object\n",
    "\n",
    "def test_PrintMessage_has_a_method_print_message(test_object_of_PrintMessage):\n",
    "    # When the method print_message is called, efectivily is called\n",
    "    with patch('app_example_1.module_1.submodule_1_1.submodule_1_1_1.print_messages.PrintMessage.print_message')as mocked_method:\n",
    "        test_object_of_PrintMessage.print_message(\"hola\")\n",
    "        mocked_method.assert_called_once()\n",
    "        mocked_method.assert_called_once_with(\"hola\")\n",
    "\n",
    "def test_PrintMessage_happy_path(test_object_of_PrintMessage):\n",
    "    # When `PrintMessage.print_message` takes an String parameter\n",
    "    result = test_object_of_PrintMessage.print_message(\"Happy Path\")\n",
    "    # Then the argument return the string\n",
    "    assert result == test_object_of_PrintMessage.print_message(\"Happy Path\")\n",
    "\n",
    "def test_method_print_message_raise_error_if_not_pass_str_as_argument(test_object_of_PrintMessage):\n",
    "    # When the method i called with an int argument\n",
    "    with pytest.raises(Exception) as exc_info:\n",
    "        test_object_of_PrintMessage.print_message(3)\n",
    "    assert str(exc_info.value) == \"error, argument is not a string type\"\n",
    "    \n"
   ]
  },
  {
   "cell_type": "markdown",
   "id": "e1c268f4-1c6c-46ba-a635-52908c644e74",
   "metadata": {},
   "source": [
    "## New Class that use PrintMessage as \n",
    "\n",
    "- Given a Class `UsePrintMessage`\n",
    "- Given `UsePrintMessage` live in `app_example_2/module_1/submodule_1_1`\n",
    "- Given `UsePrintMessage` have a method called `print_message_uppercase`\n",
    "- Given `UsePrintMessage.print_message_uppercase` has an implementation `PrintMessage` \n",
    "- When `UsePrintMessage.print_message_uppercase` is called with a valid `PrintMessage.print_message` argument\n",
    "- Then the argument si returned UPERCASED\n",
    "- When `UsePrintMessage` is called with non `PrintMessage` argument\n",
    "- Then `UsePrintMessage.print_message_uppercase` raise an exception"
   ]
  },
  {
   "cell_type": "code",
   "execution_count": 6,
   "id": "ba6e91a9-4746-4e68-9d4e-d0ce33684265",
   "metadata": {},
   "outputs": [],
   "source": [
    "import ipytest\n",
    "\n",
    "ipytest.autoconfig()\n",
    "\n",
    "import pytest\n",
    "from unittest.mock import patch\n",
    "from unittest.mock import Mock\n",
    "from app_example_1.module_1.submodule_1_1.submodule_1_1_1.print_messages import PrintMessage\n",
    "from app_example_2.module_1.submodule_1_1.print_messages_upercased import UsePrintMessage"
   ]
  },
  {
   "cell_type": "code",
   "execution_count": 7,
   "id": "0761cb84-c010-4d29-b181-57bc45534fda",
   "metadata": {},
   "outputs": [
    {
     "name": "stdout",
     "output_type": "stream",
     "text": [
      "\u001b[1m======================================= test session starts ========================================\u001b[0m\n",
      "platform linux -- Python 3.10.4, pytest-7.1.2, pluggy-1.0.0 -- /home/alvar/.pyenv/versions/3.10.4/bin/python\n",
      "cachedir: .pytest_cache\n",
      "rootdir: /home/alvar/git/100-days-of-code/python_things/notebooks\n",
      "plugins: anyio-3.6.1\n",
      "\u001b[1mcollecting ... \u001b[0mcollected 3 items\n",
      "\n",
      "tmpn7os_4rc.py::test_UsePrintMessage_has_a_method_print_message_uppercase \u001b[32mPASSED\u001b[0m\n",
      "tmpn7os_4rc.py::test_UsePrintMessage_happy_path \u001b[32mPASSED\u001b[0m\n",
      "tmpn7os_4rc.py::test_method_print_message_raise_error_if_not_pass_obj_as_argument \u001b[32mPASSED\u001b[0m\n",
      "\n",
      "\u001b[32m======================================== \u001b[32m\u001b[1m3 passed\u001b[0m\u001b[32m in 0.01s\u001b[0m\u001b[32m =========================================\u001b[0m\n"
     ]
    }
   ],
   "source": [
    "%%ipytest -vv -s\n",
    "\n",
    "@pytest.fixture\n",
    "def test_object_of_PrintMessage():\n",
    "    test_object = PrintMessage()\n",
    "    return test_object\n",
    "\n",
    "@pytest.fixture\n",
    "def test_object_of_UsePrintMessage():\n",
    "    test_object = UsePrintMessage()\n",
    "    return test_object\n",
    "\n",
    "def test_UsePrintMessage_has_a_method_print_message_uppercase(test_object_of_PrintMessage, test_object_of_UsePrintMessage):\n",
    "    # When the method print_message is called, efectivily is called\n",
    "    with patch('app_example_2.module_1.submodule_1_1.print_messages_upercased.UsePrintMessage.print_message_uppercase')as mocked_method:\n",
    "        test_object_of_UsePrintMessage.print_message_uppercase(test_object_of_PrintMessage,\"hola\")\n",
    "        mocked_method.assert_called_once()\n",
    "        mocked_method.assert_called_once_with(test_object_of_PrintMessage,\"hola\")\n",
    "        \n",
    "def test_UsePrintMessage_happy_path(test_object_of_PrintMessage, test_object_of_UsePrintMessage):\n",
    "    # When UsePrintMessage.print_message_uppercase is called with a valid PrintMessage.print_message argument\n",
    "    result = test_object_of_UsePrintMessage.print_message_uppercase(test_object_of_PrintMessage, \"upercase happy path\")\n",
    "    # Then the argument si returned UPERCASED\n",
    "    assert result == \"UPERCASE HAPPY PATH\"\n",
    "        \n",
    "def test_method_print_message_raise_error_if_not_pass_obj_as_argument(test_object_of_PrintMessage, test_object_of_UsePrintMessage):\n",
    "    # When the method i called with no PrintMessage argument\n",
    "    with pytest.raises(Exception) as exc_info:\n",
    "        test_object_of_UsePrintMessage.print_message_uppercase(\"hola\", 'chau')\n",
    "    assert str(exc_info.value) == \"error, argument is not an implementation of print_message method\""
   ]
  }
 ],
 "metadata": {
  "kernelspec": {
   "display_name": "Python 3 (ipykernel)",
   "language": "python",
   "name": "python3"
  },
  "language_info": {
   "codemirror_mode": {
    "name": "ipython",
    "version": 3
   },
   "file_extension": ".py",
   "mimetype": "text/x-python",
   "name": "python",
   "nbconvert_exporter": "python",
   "pygments_lexer": "ipython3",
   "version": "3.10.4"
  }
 },
 "nbformat": 4,
 "nbformat_minor": 5
}
